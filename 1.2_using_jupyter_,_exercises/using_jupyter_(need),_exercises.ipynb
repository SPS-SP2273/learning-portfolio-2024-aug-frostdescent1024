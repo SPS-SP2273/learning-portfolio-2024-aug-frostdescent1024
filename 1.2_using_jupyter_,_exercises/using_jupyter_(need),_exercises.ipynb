{
 "cells": [
  {
   "attachments": {},
   "cell_type": "markdown",
   "id": "123456",
   "metadata": {},
   "source": [
    "<div style=\"text-align:left;font-size:2em\"><span style=\"font-weight:bolder;font-size:1.25em\">SP2273 | Learning Portfolio</span><br><br><span style=\"font-weight:bold;color:darkred\">Using Jupyter (Need), Exercises</span></div>"
   ]
  },
  {
   "cell_type": "markdown",
   "id": "849550ca-29c2-49ad-85cf-e0471b25755c",
   "metadata": {},
   "source": [
    "### Ex\n",
    "\n",
    "## **1 Quadratic Equations**"
   ]
  },
  {
   "cell_type": "markdown",
   "id": "039b7003-4c14-47f8-8c07-59b7c2b91e95",
   "metadata": {},
   "source": [
    "### **Introduction**"
   ]
  },
  {
   "cell_type": "markdown",
   "id": "8023731e-4212-44a3-819b-b89dafacc7da",
   "metadata": {},
   "source": [
    "![](https://upload.wikimedia.org/wikipedia/commons/thumb/f/f8/Polynomialdeg2.svg/600px-Polynomialdeg2.svg.png)\n",
    "\n",
    "*(Image from the [Wikipedia page on Quadratic equations](https://en.wikipedia.org/wiki/Quadratic_equation))*\n",
    "\n",
    "The general form of a quadratic equation is:\n",
    "\n",
    "$$\n",
    "ax^2 + bx + c = 0\n",
    "$$"
   ]
  },
  {
   "attachments": {},
   "cell_type": "markdown",
   "id": "6bb9f570",
   "metadata": {},
   "source": [
    "### **Solutions**"
   ]
  },
  {
   "cell_type": "markdown",
   "id": "9533d440-6c04-4666-90c0-d2551142cefd",
   "metadata": {},
   "source": [
    "Provided $a \\ne 0$, we can use an elementary algebraic method called [completing the square](https://en.wikipedia.org/wiki/Completing_the_square) to show that a quadratic equation has the following solution:\n",
    "\n",
    "$$\n",
    "x = \\dfrac{-b \\pm \\sqrt{b^2-4ac}}{2a}\n",
    "$$\n"
   ]
  },
  {
   "attachments": {},
   "cell_type": "markdown",
   "id": "488a9fb4",
   "metadata": {},
   "source": [
    "### **Discriminant**"
   ]
  },
  {
   "cell_type": "markdown",
   "id": "cbff4259-75a7-4c94-b6ae-88309f296e83",
   "metadata": {},
   "source": [
    "The quantity $\\Delta = b^2 - 4ac$ is called the **discriminant** of the equation and decides the nature of its solutions. The table below shows the various possibilities.\n",
    "\n",
    "|     Discriminant             | Roots                                   |\n",
    "|------------------------------|-----------------------------------------|\n",
    "|$\\Delta = b^2 -4ac = 0$       | A single solution of $-b/2a$            |\n",
    "|$\\Delta = b^2 -4ac \\gt 0$     | Two distinct solutions                  |\n",
    "|$\\Delta = b^2 -4ac \\lt 0$     | No real solutions; both are complex.    |"
   ]
  },
  {
   "cell_type": "markdown",
   "id": "3dd9a9d0-f497-4715-9f80-f3554d6f81ed",
   "metadata": {},
   "source": [
    "### Exercise 2\n",
    "\n",
    "1. What is a Git repository?\n",
    "   - It is like a folder on the GitHub server to store the learning portfolio for me.\n",
    "1. Git keeps tracks of **changes** in the files in our repository.\n",
    "1. What is a commit?\n",
    "   - A commit allows one to describe and record a file change in the repository.\n",
    "1. What is a push?\n",
    "   - A push allows one to share the changes locally onto the GitHub server.\n",
    "1. What is a pull?\n",
    "   - A pull allows one to save the changes from the server to the local machine.\n",
    "1. What is the difference between GitHub and GitHub Desktop?\n",
    "   - GitHub is an online server whereas GitHub Desktop allows the repository in the cloud to be saved locally."
   ]
  },
  {
   "cell_type": "markdown",
   "id": "43870e5a-5177-4886-882d-f6860274cbb4",
   "metadata": {},
   "source": [
    "### Exercise 3\n",
    "\n",
    "$$\n",
    "\\mu = \\dfrac{1}{n} \\sum_{i=1}^{n} x_i\n",
    "$$\n",
    "$$\n",
    "\\sigma = \\sqrt{\\dfrac{1}{n} \\sum_{i=1}^{n} (x_i - \\mu)^2}\n",
    "$$\n",
    "$$\n",
    "\\gamma = \\dfrac{\\sum_{i=1}^{n} (x_i - \\mu_X)(y_i - \\mu_Y)}{\\sqrt{\\sum_{i=1}^{n} (x_i - \\mu_X)^2 \\sum_{i=1}^{n} (y_i - \\mu_Y)^2}}\n",
    "$$"
   ]
  }
 ],
 "metadata": {
  "kernelspec": {
   "display_name": "Python 3 (ipykernel)",
   "language": "python",
   "name": "python3"
  },
  "language_info": {
   "codemirror_mode": {
    "name": "ipython",
    "version": 3
   },
   "file_extension": ".py",
   "mimetype": "text/x-python",
   "name": "python",
   "nbconvert_exporter": "python",
   "pygments_lexer": "ipython3",
   "version": "3.12.3"
  },
  "toc": {
   "base_numbering": 1,
   "nav_menu": {},
   "number_sections": true,
   "sideBar": true,
   "skip_h1_title": false,
   "title_cell": "Table of Contents",
   "title_sidebar": "Contents",
   "toc_cell": false,
   "toc_position": {},
   "toc_section_display": true,
   "toc_window_display": false
  },
  "vscode": {
   "interpreter": {
    "hash": "31f2aee4e71d21fbe5cf8b01ff0e069b9275f58929596ceb00d14d90e3e16cd6"
   }
  }
 },
 "nbformat": 4,
 "nbformat_minor": 5
}
