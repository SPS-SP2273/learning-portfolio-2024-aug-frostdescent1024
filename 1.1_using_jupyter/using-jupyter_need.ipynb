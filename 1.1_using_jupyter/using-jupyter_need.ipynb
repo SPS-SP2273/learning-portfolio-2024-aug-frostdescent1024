{
 "cells": [
  {
   "cell_type": "code",
   "execution_count": 1,
   "id": "5a9a1bd0-4e94-4cba-b53c-26e3e3b476d3",
   "metadata": {},
   "outputs": [
    {
     "name": "stdout",
     "output_type": "stream",
     "text": [
      "Hello world\n"
     ]
    }
   ],
   "source": [
    "print('Hello world')"
   ]
  },
  {
   "cell_type": "code",
   "execution_count": 2,
   "id": "a142e3c8-15c6-4344-b9a5-e68783a2bd40",
   "metadata": {},
   "outputs": [
    {
     "name": "stdout",
     "output_type": "stream",
     "text": [
      "Hello world\n"
     ]
    }
   ],
   "source": [
    "print('Hello world')"
   ]
  },
  {
   "cell_type": "markdown",
   "id": "0f87b4bb-62ad-4fe7-92e5-fda5a9436996",
   "metadata": {},
   "source": [
    "The ships hung in the sky in much the same way that bricks don’t."
   ]
  },
  {
   "cell_type": "markdown",
   "id": "710ce5a3-f487-4086-9352-709fc477b8f5",
   "metadata": {},
   "source": [
    "# This is a start\n",
    "\n",
    "## subsection 1\n",
    "\n",
    "### hahahah 1\n",
    "\n",
    "The **ships** hung in the *sky* in much the same way that bricks don’t.\n",
    "\n",
    "# Displaying Code\n",
    "\n",
    "```python\n",
    "print('Hello World!')\n",
    "```\n",
    "\n",
    "# Equation\n",
    "\n",
    "$$\\int f(x) dx$$\n",
    "\n",
    "# Links\n",
    "\n",
    "[This is SPS](https://sps/nus/edu/sg/)\n",
    "\n",
    "# Images\n",
    "\n",
    "![](https://nus.edu.sg/images/default-source/base/logo.png)\n",
    "\n",
    "# Tables\n",
    "\n",
    "| A    |  B   |    C |\n",
    "| :--- | :--: | ---: |\n",
    "| a1   |  b1  |   c1 |\n",
    "| a2   |  b2  |   c2 |\n",
    "| a3   |  b3  |   c3 |\n",
    "\n",
    "# Numbered List\n",
    "\n",
    "1. Master Yoda\n",
    "1. Luke Skywalker\n",
    "1. Anakin Skywalker\n",
    "\n",
    "# Unnumbered List\n",
    "- Master Yoda\n",
    "- Luke Skywalker\n",
    "- Anakin Skywalker\n",
    "\n",
    "# Numbered-numbered List\n",
    "1. Master Yoda\n",
    "   1. Was a Jedi\n",
    "   1. Was a bit green\n",
    "1. Luke Skywalker\n",
    "   1. Was a Jedi\n",
    "   1. Is Anakin's son.\n",
    "1. Anakin Skywalker\n",
    "   1. Was a Jedi then became a baddie\n",
    "   1. Is famous for saying 'Luke, I am your father'\n",
    "\n",
    "# Numbered-unnumbered List\n",
    "1. Master Yoda\n",
    "   - Was a Jedi\n",
    "   - Was a bit green\n",
    "1. Luke Skywalker\n",
    "   - Was a Jedi\n",
    "   - Is Anakin's son.\n",
    "1. Anakin Skywalker\n",
    "   - Was a Jedi then, became a baddie\n",
    "   - Is famous for saying, _'Luke, I am your father'_."
   ]
  },
  {
   "cell_type": "markdown",
   "id": "90fbb9d7-0a3c-4d6b-89a1-ed8d434993b7",
   "metadata": {},
   "source": [
    "# Equation\n",
    "\n",
    "$$\n",
    "x = \\dfrac{-b \\pm \\sqrt{b^2-4ac}}{2a}\n",
    "$$"
   ]
  },
  {
   "cell_type": "code",
   "execution_count": null,
   "id": "ee5d9dac-6705-4c65-98e8-6cbee9b0a31d",
   "metadata": {},
   "outputs": [],
   "source": []
  }
 ],
 "metadata": {
  "kernelspec": {
   "display_name": "Python 3 (ipykernel)",
   "language": "python",
   "name": "python3"
  },
  "language_info": {
   "codemirror_mode": {
    "name": "ipython",
    "version": 3
   },
   "file_extension": ".py",
   "mimetype": "text/x-python",
   "name": "python",
   "nbconvert_exporter": "python",
   "pygments_lexer": "ipython3",
   "version": "3.12.3"
  }
 },
 "nbformat": 4,
 "nbformat_minor": 5
}
