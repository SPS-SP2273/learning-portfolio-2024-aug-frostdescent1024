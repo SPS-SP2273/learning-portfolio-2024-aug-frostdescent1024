{
 "cells": [
  {
   "attachments": {},
   "cell_type": "markdown",
   "id": "123456",
   "metadata": {},
   "source": [
    "<div style=\"text-align:left;font-size:2em\"><span style=\"font-weight:bolder;font-size:1.25em\">SP2273 | Learning Portfolio</span><br><br><span style=\"font-weight:bold;color:darkred\">Loops (Need)</span></div>"
   ]
  },
  {
   "attachments": {},
   "cell_type": "markdown",
   "id": "337f9306",
   "metadata": {},
   "source": [
    "# What to expect in this chapter"
   ]
  },
  {
   "attachments": {},
   "cell_type": "markdown",
   "id": "c999c6d7",
   "metadata": {},
   "source": [
    "# 1 The for iterator"
   ]
  },
  {
   "cell_type": "code",
   "execution_count": 1,
   "id": "1a45c66d-c64a-4792-a887-cecfc2a2f530",
   "metadata": {},
   "outputs": [],
   "source": [
    "real_names = [\"Natasha Romanoff\", \"Tony Stark\", \"Stephen Strange\"]"
   ]
  },
  {
   "cell_type": "code",
   "execution_count": 2,
   "id": "12163bc1-cc6c-4ed4-9005-99e82e848286",
   "metadata": {},
   "outputs": [
    {
     "name": "stdout",
     "output_type": "stream",
     "text": [
      "Natasha Romanoff is a Marvel superhero!\n",
      "Tony Stark is a Marvel superhero!\n",
      "Stephen Strange is a Marvel superhero!\n"
     ]
    }
   ],
   "source": [
    "name=real_names[0]\n",
    "print(f\"{name} is a Marvel superhero!\")\n",
    "\n",
    "name=real_names[1]\n",
    "print(f\"{name} is a Marvel superhero!\")\n",
    "\n",
    "name=real_names[2]\n",
    "print(f\"{name} is a Marvel superhero!\")\n",
    "# it does not scale very well (imagine if you have a 100 names!),\n",
    "# it is cumbersome to make changes, you have to do it three times.\n",
    "# it is highly error prone, since you need to type something new (even if you are copying and pasting most of it)."
   ]
  },
  {
   "attachments": {},
   "cell_type": "markdown",
   "id": "721445a5",
   "metadata": {},
   "source": [
    "## 1.1 for with a list"
   ]
  },
  {
   "cell_type": "code",
   "execution_count": 5,
   "id": "babfd04d-f5bd-4501-b44a-6987d1111b91",
   "metadata": {},
   "outputs": [
    {
     "name": "stdout",
     "output_type": "stream",
     "text": [
      "NATASHA ROMANOFF is a Marvel superhero!\n",
      "--------------------------------------------------\n",
      "TONY STARK is a Marvel superhero!\n",
      "--------------------------------------------------\n",
      "STEPHEN STRANGE is a Marvel superhero!\n",
      "--------------------------------------------------\n"
     ]
    }
   ],
   "source": [
    "for name in real_names:\n",
    "    print(f\"{name.upper()} is a Marvel superhero!\")\n",
    "    print(\"-\"*50)\n",
    "#it goes through the list and assigns name the value of each element of the list.\n",
    "#it then runs the code-block using this value of name.\n",
    "#the code block is deginted by using : and tabs like with if."
   ]
  },
  {
   "attachments": {},
   "cell_type": "markdown",
   "id": "5842245c",
   "metadata": {},
   "source": [
    "## 1.2 for with enumerate"
   ]
  },
  {
   "cell_type": "code",
   "execution_count": 13,
   "id": "0cb5e56f-66c4-4037-acdd-27427b6f999d",
   "metadata": {},
   "outputs": [],
   "source": [
    "super_names = [\"Black Widow\", \"Iron Man\", \"Doctor Strange\"]\n",
    "real_names = [\"Natasha Romanoff\", \"Tony Stark\", \"Stephen Strange\"]\n",
    "universe = ['Marvel']*3"
   ]
  },
  {
   "cell_type": "code",
   "execution_count": 8,
   "id": "447c9d46-8471-41c4-9172-96f990fb3887",
   "metadata": {},
   "outputs": [
    {
     "name": "stdout",
     "output_type": "stream",
     "text": [
      "1: NATASHA ROMANOFF is a Great Marvel superhero!\n",
      "2: TONY STARK is a Great Marvel superhero!\n",
      "3: STEPHEN STRANGE is a Great Marvel superhero!\n"
     ]
    }
   ],
   "source": [
    "count =1\n",
    "for name in real_names:\n",
    "    print(f\"{count}: {name.upper()} is a Great Marvel superhero!\")\n",
    "    count +=1"
   ]
  },
  {
   "cell_type": "code",
   "execution_count": 11,
   "id": "e8dfd231-61d8-4fda-a6d1-a61dc8648165",
   "metadata": {},
   "outputs": [
    {
     "name": "stdout",
     "output_type": "stream",
     "text": [
      "100: Natasha Romanoff is a Marvel superhero!\n",
      "101: Tony Stark is a Marvel superhero!\n",
      "102: Stephen Strange is a Marvel superhero!\n"
     ]
    }
   ],
   "source": [
    "for count, name in enumerate(real_names, start=100):\n",
    "    print(f'{count}: {name} is a Marvel superhero!')"
   ]
  },
  {
   "cell_type": "code",
   "execution_count": 14,
   "id": "3202327a-f392-438f-b846-2b23ed3aabf6",
   "metadata": {},
   "outputs": [
    {
     "name": "stdout",
     "output_type": "stream",
     "text": [
      "Natasha Romanoff ----> Black Widow ----> Marvel\n",
      "Tony Stark ----> Iron Man ----> Marvel\n",
      "Stephen Strange ----> Doctor Strange ----> Marvel\n"
     ]
    }
   ],
   "source": [
    "for index, real_name in enumerate(real_names):\n",
    "    print(real_name, '---->', super_names[index], '---->', universe[index])"
   ]
  },
  {
   "attachments": {},
   "cell_type": "markdown",
   "id": "5c6d22e0",
   "metadata": {},
   "source": [
    "## 1.3 for with range"
   ]
  },
  {
   "cell_type": "code",
   "execution_count": 17,
   "id": "a2bec9af-aa71-4ebd-a405-3d59e61450c6",
   "metadata": {},
   "outputs": [
    {
     "name": "stdout",
     "output_type": "stream",
     "text": [
      "Natasha Romanoff ----> Black Widow ----> Marvel\n",
      "Tony Stark ----> Iron Man ----> Marvel\n",
      "Stephen Strange ----> Doctor Strange ----> Marvel\n"
     ]
    }
   ],
   "source": [
    "for index in range(3):\n",
    "    print(real_names[index], '---->', super_names[index], '---->', universe[index])"
   ]
  },
  {
   "cell_type": "code",
   "execution_count": 18,
   "id": "e46ea591-aae1-491d-b236-a1860ce860ca",
   "metadata": {},
   "outputs": [
    {
     "data": {
      "text/plain": [
       "range(0, 3)"
      ]
     },
     "execution_count": 18,
     "metadata": {},
     "output_type": "execute_result"
    }
   ],
   "source": [
    "range(3)\n",
    "#starts with 0 and goes to 3, but never reach 3"
   ]
  },
  {
   "cell_type": "code",
   "execution_count": 19,
   "id": "5323486a-81d9-414b-8371-b6c0bd63f85d",
   "metadata": {},
   "outputs": [
    {
     "data": {
      "text/plain": [
       "[0, 1, 2]"
      ]
     },
     "execution_count": 19,
     "metadata": {},
     "output_type": "execute_result"
    }
   ],
   "source": [
    "list(range(3))"
   ]
  },
  {
   "cell_type": "code",
   "execution_count": 21,
   "id": "a3b2d3ec-f908-4d25-a9ab-7420fcf17ea3",
   "metadata": {},
   "outputs": [
    {
     "name": "stdout",
     "output_type": "stream",
     "text": [
      "1\n",
      "4\n",
      "7\n"
     ]
    }
   ],
   "source": [
    "for i in range(1, 10, 3):\n",
    "    print(i)"
   ]
  },
  {
   "attachments": {},
   "cell_type": "markdown",
   "id": "abb9e0a2",
   "metadata": {},
   "source": [
    "# 2 while"
   ]
  },
  {
   "cell_type": "code",
   "execution_count": 20,
   "id": "c0ee5f20-c9dc-4ccb-8b50-ad6c4b4e67e5",
   "metadata": {},
   "outputs": [
    {
     "name": "stdout",
     "output_type": "stream",
     "text": [
      "0\n",
      "1\n",
      "2\n",
      "3\n",
      "4\n"
     ]
    }
   ],
   "source": [
    "number = 0\n",
    "\n",
    "while number <5:\n",
    "    print(number)\n",
    "    number +=1"
   ]
  },
  {
   "cell_type": "code",
   "execution_count": null,
   "id": "3858c22f-74e8-40b1-afc2-4d77e0563f1d",
   "metadata": {},
   "outputs": [],
   "source": [
    "#while True:\n",
    "    #print(\"hahahaha\")\n",
    "#True is always true, so this loop will go on forever"
   ]
  },
  {
   "cell_type": "code",
   "execution_count": null,
   "id": "2c855b83-2994-402d-9778-8821833a3d4d",
   "metadata": {},
   "outputs": [],
   "source": []
  }
 ],
 "metadata": {
  "kernelspec": {
   "display_name": "Python 3 (ipykernel)",
   "language": "python",
   "name": "python3"
  },
  "language_info": {
   "codemirror_mode": {
    "name": "ipython",
    "version": 3
   },
   "file_extension": ".py",
   "mimetype": "text/x-python",
   "name": "python",
   "nbconvert_exporter": "python",
   "pygments_lexer": "ipython3",
   "version": "3.12.3"
  },
  "toc": {
   "base_numbering": 1,
   "nav_menu": {},
   "number_sections": true,
   "sideBar": true,
   "skip_h1_title": false,
   "title_cell": "Table of Contents",
   "title_sidebar": "Contents",
   "toc_cell": false,
   "toc_position": {},
   "toc_section_display": true,
   "toc_window_display": false
  },
  "vscode": {
   "interpreter": {
    "hash": "31f2aee4e71d21fbe5cf8b01ff0e069b9275f58929596ceb00d14d90e3e16cd6"
   }
  }
 },
 "nbformat": 4,
 "nbformat_minor": 5
}
