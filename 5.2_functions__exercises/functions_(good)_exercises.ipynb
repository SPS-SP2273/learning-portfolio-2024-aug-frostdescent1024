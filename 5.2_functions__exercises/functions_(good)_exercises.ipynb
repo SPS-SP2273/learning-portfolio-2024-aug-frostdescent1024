{
 "cells": [
  {
   "attachments": {},
   "cell_type": "markdown",
   "id": "123456",
   "metadata": {},
   "source": [
    "<div style=\"text-align:left;font-size:2em\"><span style=\"font-weight:bolder;font-size:1.25em\">SP2273 | Learning Portfolio</span><br><br><span style=\"font-weight:bold;color:darkred\">Functions (Good) Exercises</span></div>"
   ]
  },
  {
   "cell_type": "markdown",
   "id": "2044a5de-a1ff-43bf-b310-1c3cf824c8aa",
   "metadata": {},
   "source": [
    "## Exercise 1"
   ]
  },
  {
   "cell_type": "code",
   "execution_count": 9,
   "id": "57175aa8-d9eb-480f-968b-75b634f65d42",
   "metadata": {},
   "outputs": [],
   "source": [
    "def convert_celsius(temperature_celsius, target_scale='Fahrenheit'):\n",
    "    if target_scale == 'Kelvin':\n",
    "        return temperature_celsius + 273.15\n",
    "    else:\n",
    "        return temperature_celsius * 9/5 + 32"
   ]
  },
  {
   "cell_type": "code",
   "execution_count": 10,
   "id": "e5fc8607-c6d5-4b80-b7e3-d35ee95dbf99",
   "metadata": {},
   "outputs": [
    {
     "data": {
      "text/plain": [
       "113.0"
      ]
     },
     "execution_count": 10,
     "metadata": {},
     "output_type": "execute_result"
    }
   ],
   "source": [
    "convert_celsius(45, 'Fahrenheit')"
   ]
  },
  {
   "cell_type": "code",
   "execution_count": 11,
   "id": "f835cd4d-bd36-4ddb-800b-8a41d06367f4",
   "metadata": {},
   "outputs": [
    {
     "data": {
      "text/plain": [
       "318.15"
      ]
     },
     "execution_count": 11,
     "metadata": {},
     "output_type": "execute_result"
    }
   ],
   "source": [
    "convert_celsius(45, 'Kelvin')"
   ]
  },
  {
   "cell_type": "code",
   "execution_count": 12,
   "id": "6682a350-f970-4b61-953a-d0dcf0237561",
   "metadata": {},
   "outputs": [
    {
     "data": {
      "text/plain": [
       "113.0"
      ]
     },
     "execution_count": 12,
     "metadata": {},
     "output_type": "execute_result"
    }
   ],
   "source": [
    "convert_celsius(45, 'askffaaf')"
   ]
  },
  {
   "cell_type": "markdown",
   "id": "f1abb445-560f-42b0-a3da-a93ff9e48500",
   "metadata": {},
   "source": [
    "## Exercise 2"
   ]
  },
  {
   "cell_type": "code",
   "execution_count": 13,
   "id": "29fd00ca-d91f-417d-8e97-aac4e75ae38d",
   "metadata": {},
   "outputs": [],
   "source": [
    "def convert_fahrenheit(temperature_fahrenheit, target_scale='Celsius'):\n",
    "    if target_scale == 'Kelvin':\n",
    "        return (temperature_fahrenheit - 32) *5/9 + 273.15\n",
    "    else:\n",
    "        return (temperature_fahrenheit - 32) *5/9"
   ]
  },
  {
   "cell_type": "code",
   "execution_count": 14,
   "id": "ea4ee2bd-de70-4c2f-bd11-daf56fda4547",
   "metadata": {},
   "outputs": [
    {
     "data": {
      "text/plain": [
       "45.0"
      ]
     },
     "execution_count": 14,
     "metadata": {},
     "output_type": "execute_result"
    }
   ],
   "source": [
    "convert_fahrenheit(113, 'Celsius')"
   ]
  },
  {
   "cell_type": "code",
   "execution_count": 15,
   "id": "ce4b8a8f-d44f-4efc-a7c2-d00f8305f1e2",
   "metadata": {},
   "outputs": [
    {
     "data": {
      "text/plain": [
       "318.15"
      ]
     },
     "execution_count": 15,
     "metadata": {},
     "output_type": "execute_result"
    }
   ],
   "source": [
    "convert_fahrenheit(113, 'Kelvin')"
   ]
  },
  {
   "cell_type": "code",
   "execution_count": 16,
   "id": "99bf3b27-dc76-43f6-9969-241c1e0fb490",
   "metadata": {},
   "outputs": [
    {
     "data": {
      "text/plain": [
       "45.0"
      ]
     },
     "execution_count": 16,
     "metadata": {},
     "output_type": "execute_result"
    }
   ],
   "source": [
    "convert_fahrenheit(113, 'sdfgbsgs')"
   ]
  },
  {
   "cell_type": "markdown",
   "id": "29ba577d-b04b-4367-a8a2-457a08a2b385",
   "metadata": {},
   "source": [
    "## Exercise 3"
   ]
  },
  {
   "cell_type": "code",
   "execution_count": null,
   "id": "2d8d8e86-121f-49ea-af8a-00e4c04b31d9",
   "metadata": {},
   "outputs": [],
   "source": [
    "'''\n",
    "Implement a function named convert_temperature() to perform general temperature conversions.\n",
    "The function should take three arguments:\n",
    "temperature: The temperature to be converted.\n",
    "source_scale (string): The scale of the input temperature (either 'Celsius', 'Fahrenheit', or 'Kelvin').\n",
    "target_scale (string): The desired scale for the output temperature.\n",
    "Remember to reuse your previous functions!\n",
    "'''"
   ]
  },
  {
   "cell_type": "code",
   "execution_count": 18,
   "id": "5c5cae6c-c551-42be-9bb0-aa34e0f2ca92",
   "metadata": {},
   "outputs": [],
   "source": [
    "def convert_kelvin(temperature_kelvin, target_scale='Celsius'):\n",
    "    if target_scale == 'Fahrenheit':\n",
    "        return (temperature_kelvin - 273.15) * 9/5 + 32\n",
    "    else:\n",
    "        return temperature_kelvin - 273.15\n",
    "        \n",
    "def convert_temperature(temperature, source_scale, target_scale):\n",
    "    if source_scale == 'Celsius':\n",
    "        return convert_celsius(temperature, target_scale)\n",
    "    elif source_scale == 'Fahrenheit':\n",
    "        return convert_fahrenheit(temperature, target_scale)\n",
    "    else:\n",
    "        return convert_kelvin(temperature, target_scale)"
   ]
  },
  {
   "cell_type": "code",
   "execution_count": 20,
   "id": "ca3a53b0-9ea3-43f7-9baf-a1a769e52e96",
   "metadata": {},
   "outputs": [
    {
     "data": {
      "text/plain": [
       "318.15"
      ]
     },
     "execution_count": 20,
     "metadata": {},
     "output_type": "execute_result"
    }
   ],
   "source": [
    "convert_temperature(45, 'Celsius', 'Kelvin')"
   ]
  },
  {
   "cell_type": "code",
   "execution_count": null,
   "id": "da1ce6fa-a518-4687-8ad2-04b5262d2e3a",
   "metadata": {},
   "outputs": [],
   "source": [
    "convert_temperature"
   ]
  }
 ],
 "metadata": {
  "kernelspec": {
   "display_name": "Python 3 (ipykernel)",
   "language": "python",
   "name": "python3"
  },
  "language_info": {
   "codemirror_mode": {
    "name": "ipython",
    "version": 3
   },
   "file_extension": ".py",
   "mimetype": "text/x-python",
   "name": "python",
   "nbconvert_exporter": "python",
   "pygments_lexer": "ipython3",
   "version": "3.12.3"
  },
  "toc": {
   "base_numbering": 1,
   "nav_menu": {},
   "number_sections": true,
   "sideBar": true,
   "skip_h1_title": false,
   "title_cell": "Table of Contents",
   "title_sidebar": "Contents",
   "toc_cell": false,
   "toc_position": {},
   "toc_section_display": true,
   "toc_window_display": false
  },
  "vscode": {
   "interpreter": {
    "hash": "31f2aee4e71d21fbe5cf8b01ff0e069b9275f58929596ceb00d14d90e3e16cd6"
   }
  }
 },
 "nbformat": 4,
 "nbformat_minor": 5
}
