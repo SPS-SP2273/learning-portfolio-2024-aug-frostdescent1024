{
 "cells": [
  {
   "attachments": {},
   "cell_type": "markdown",
   "id": "123456",
   "metadata": {},
   "source": [
    "<div style=\"text-align:left;font-size:2em\"><span style=\"font-weight:bolder;font-size:1.25em\">SP2273 | Learning Portfolio</span><br><br><span style=\"font-weight:bold;color:darkred\">Fundamentals (Need) Exercises</span></div>"
   ]
  },
  {
   "cell_type": "markdown",
   "id": "7759c441-d5c3-4fa2-bb74-2cd35309851a",
   "metadata": {},
   "source": [
    "## Exercise 1"
   ]
  },
  {
   "cell_type": "markdown",
   "id": "fcd03b2a-daf7-4f50-b43c-ba25ace36d85",
   "metadata": {},
   "source": [
    "1. print function\n",
    "1. python is case-sensitive\n",
    "1. if function\n",
    "1. python can import math packeges for calculations\n",
    "1. a comment in python has a # in the front\n",
    "1. = is to set something equal whereas == is to check whether something is equal\n",
    "1. indentation is important\n",
    "1. different brackets have different functions\n",
    "   - () \n",
    "1. the dot \".\" means ownership\n",
    "1. *python is interpreted sequentially, one line at a time.*\n",
    "1. *if could be used to make decisions*"
   ]
  },
  {
   "cell_type": "markdown",
   "id": "0ad31931-684f-45c2-a72d-acc881438c75",
   "metadata": {},
   "source": [
    "## Exercise 2"
   ]
  },
  {
   "cell_type": "code",
   "execution_count": 11,
   "id": "f2f7061d-6a49-4e71-b2c9-e7d3dd7feaa8",
   "metadata": {},
   "outputs": [
    {
     "name": "stdout",
     "output_type": "stream",
     "text": [
      "3 4 5\n"
     ]
    }
   ],
   "source": [
    "import math\n",
    "x, y = 3, 4\n",
    "z = math.sqrt(x**2 + y**2)\n",
    "print(x, y, int(z))"
   ]
  },
  {
   "cell_type": "markdown",
   "id": "bab0c423-3180-4d6e-b348-e06ba6637307",
   "metadata": {},
   "source": [
    "## Exercise 3"
   ]
  },
  {
   "cell_type": "markdown",
   "id": "0936df82-d1a1-46ee-8d6b-59c416ccae23",
   "metadata": {},
   "source": [
    "| #  | **Term**  | **Description**  |\n",
    "|:--:|:----------|:-----------------|\n",
    "| 1  | Function  | something to do a specific task   |\n",
    "| 2  | Argument  | a value that is passed to a function |\n",
    "| 3  | Comments  | additional information that is not code  |\n",
    "| 4  | Indentations | spaces to keep python run smoothly  |\n",
    "| 5  | Packages  | sets of functions  |\n",
    "| 6  | .  | ownership  |\n",
    "| 7  | :  | to designate a block of code  |\n",
    "| 8  | [] | used for 1D list  |\n",
    "| 9  | [[],[]]  | used for 2D list   |\n",
    "| 10 | {}  | used to store data in a dictionary  |"
   ]
  },
  {
   "cell_type": "markdown",
   "id": "8895bb60-81c0-4cea-8f20-c44539a38c58",
   "metadata": {},
   "source": [
    "## Exercise 4"
   ]
  },
  {
   "cell_type": "code",
   "execution_count": 12,
   "id": "a82e2728-226d-4296-bbd2-07c2c93591fb",
   "metadata": {},
   "outputs": [
    {
     "data": {
      "text/plain": [
       "2.5"
      ]
     },
     "execution_count": 12,
     "metadata": {},
     "output_type": "execute_result"
    }
   ],
   "source": [
    "5/2           # / means divide"
   ]
  },
  {
   "cell_type": "code",
   "execution_count": 18,
   "id": "16f2b56b-1c26-44af-b5e5-ae7ca6793dd7",
   "metadata": {},
   "outputs": [
    {
     "data": {
      "text/plain": [
       "3"
      ]
     },
     "execution_count": 18,
     "metadata": {},
     "output_type": "execute_result"
    }
   ],
   "source": [
    "5//2          # // means floor division: if the answer is a fraction, round down to the nearest smaller integer "
   ]
  },
  {
   "cell_type": "code",
   "execution_count": 16,
   "id": "e937200c-4468-4594-992a-0164aad933f1",
   "metadata": {},
   "outputs": [
    {
     "data": {
      "text/plain": [
       "1"
      ]
     },
     "execution_count": 16,
     "metadata": {},
     "output_type": "execute_result"
    }
   ],
   "source": [
    "5%2           # % means finding the remainder after the division (5/2=2...1)"
   ]
  }
 ],
 "metadata": {
  "kernelspec": {
   "display_name": "Python 3 (ipykernel)",
   "language": "python",
   "name": "python3"
  },
  "language_info": {
   "codemirror_mode": {
    "name": "ipython",
    "version": 3
   },
   "file_extension": ".py",
   "mimetype": "text/x-python",
   "name": "python",
   "nbconvert_exporter": "python",
   "pygments_lexer": "ipython3",
   "version": "3.12.3"
  },
  "toc": {
   "base_numbering": 1,
   "nav_menu": {},
   "number_sections": true,
   "sideBar": true,
   "skip_h1_title": false,
   "title_cell": "Table of Contents",
   "title_sidebar": "Contents",
   "toc_cell": false,
   "toc_position": {},
   "toc_section_display": true,
   "toc_window_display": false
  },
  "vscode": {
   "interpreter": {
    "hash": "31f2aee4e71d21fbe5cf8b01ff0e069b9275f58929596ceb00d14d90e3e16cd6"
   }
  }
 },
 "nbformat": 4,
 "nbformat_minor": 5
}
