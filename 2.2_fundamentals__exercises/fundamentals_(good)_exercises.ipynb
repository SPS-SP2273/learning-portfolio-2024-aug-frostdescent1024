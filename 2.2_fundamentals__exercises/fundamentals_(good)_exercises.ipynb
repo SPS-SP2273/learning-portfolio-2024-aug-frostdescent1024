{
 "cells": [
  {
   "attachments": {},
   "cell_type": "markdown",
   "id": "123456",
   "metadata": {},
   "source": [
    "<div style=\"text-align:left;font-size:2em\"><span style=\"font-weight:bolder;font-size:1.25em\">SP2273 | Learning Portfolio</span><br><br><span style=\"font-weight:bold;color:darkred\">Fundamentals (Good) Exercises</span></div>"
   ]
  },
  {
   "cell_type": "markdown",
   "id": "048abaff-29cd-4b4b-93a2-38665491ff3e",
   "metadata": {},
   "source": [
    "## Exercise 1"
   ]
  },
  {
   "cell_type": "code",
   "execution_count": 2,
   "id": "e460d5b6-3599-4fb9-81d8-8a6fc0eb717a",
   "metadata": {},
   "outputs": [
    {
     "name": "stdin",
     "output_type": "stream",
     "text": [
      "What 's your name? qingyuan\n"
     ]
    },
    {
     "name": "stdout",
     "output_type": "stream",
     "text": [
      "How you doin qingyuan\n"
     ]
    }
   ],
   "source": [
    "NAME = input('What \\'s your name?')\n",
    "print('How you doin', NAME)"
   ]
  },
  {
   "cell_type": "code",
   "execution_count": 3,
   "id": "a521f0c8-a208-49ff-859b-f6dd35af5e59",
   "metadata": {},
   "outputs": [
    {
     "name": "stdin",
     "output_type": "stream",
     "text": [
      "What 's your name? qingyuan\n",
      "How old are you? 21\n"
     ]
    },
    {
     "name": "stdout",
     "output_type": "stream",
     "text": [
      "My name is qingyuan and I am 21 years old.\n"
     ]
    }
   ],
   "source": [
    "NAME = input('What \\'s your name?')\n",
    "AGE = input('How old are you?')\n",
    "print('My name is', NAME, 'and I am', AGE, 'years old.')"
   ]
  },
  {
   "cell_type": "code",
   "execution_count": 7,
   "id": "1403cfd7-bb60-4634-b97b-8d7658fd6f74",
   "metadata": {},
   "outputs": [
    {
     "name": "stdout",
     "output_type": "stream",
     "text": [
      "The value of pi to 2 decimal places is 3.14\n",
      "The value of pi to 3 decimal places is 3.142\n",
      "The value of pi to 4 decimal places is 3.1416\n"
     ]
    }
   ],
   "source": [
    "pi = 3.141592653589793\n",
    "print(f'The value of pi to 2 decimal places is {pi:.2f}' )\n",
    "print(f'The value of pi to 3 decimal places is {pi:.3f}' )\n",
    "print(f'The value of pi to 4 decimal places is {pi:.4f}' )"
   ]
  },
  {
   "cell_type": "code",
   "execution_count": 5,
   "id": "9b9ca5a7-8836-488f-91c9-7314ec1549bf",
   "metadata": {},
   "outputs": [
    {
     "name": "stdout",
     "output_type": "stream",
     "text": [
      "Apple          $ 0.99\n",
      "Banana         $ 0.59\n",
      "Orange         $ 1.29\n"
     ]
    }
   ],
   "source": [
    "fruit_a = \"Apple\"\n",
    "fruit_b = \"Banana\"\n",
    "fruit_c = \"Orange\"\n",
    "price_a = \"$ 0.99\"\n",
    "price_b = \"$ 0.59\"\n",
    "price_c = \"$ 1.29\"\n",
    "print(f'{fruit_a:<10} {price_a:>10}')\n",
    "print(f'{fruit_b:<10} {price_b:>10}')\n",
    "print(f'{fruit_c:<10} {price_c:>10}')"
   ]
  },
  {
   "cell_type": "markdown",
   "id": "802d7279-1d61-413d-94cb-058f7138be69",
   "metadata": {},
   "source": [
    "## Exercise 2"
   ]
  },
  {
   "cell_type": "code",
   "execution_count": 12,
   "id": "813f601a-8221-4958-9f5c-30a3985f112d",
   "metadata": {},
   "outputs": [
    {
     "name": "stdin",
     "output_type": "stream",
     "text": [
      "Enter the student's score: 105\n"
     ]
    },
    {
     "name": "stdout",
     "output_type": "stream",
     "text": [
      "score is not valid\n"
     ]
    }
   ],
   "source": [
    "score = int(input('Enter the student\\'s score:' ) )\n",
    "if 70<=score<=100:\n",
    "    print('The student\\'s letter grade is: A')\n",
    "elif 50<=score<=69:\n",
    "    print('The student\\'s letter grade is: B')\n",
    "elif 35<=score<=49:\n",
    "    print('The student\\'s letter grade is: C')\n",
    "elif 0<=score<=34:\n",
    "    print('The student\\'s letter grade is: Fail')\n",
    "else:\n",
    "    print('score is not valid')"
   ]
  },
  {
   "cell_type": "markdown",
   "id": "b6c42c98-4efe-4ad3-b0ef-84eae9f7a60a",
   "metadata": {},
   "source": [
    "## Exercise 3"
   ]
  },
  {
   "cell_type": "code",
   "execution_count": 22,
   "id": "b0018d79-31da-4790-82c5-986e3bcf68ae",
   "metadata": {},
   "outputs": [
    {
     "name": "stdout",
     "output_type": "stream",
     "text": [
      "120\n",
      "Invalid input\n"
     ]
    }
   ],
   "source": [
    "def factorial(n):\n",
    "    if n < 0: \n",
    "        return \"Invalid input\"                \n",
    "    elif n != 0:\n",
    "        result = 1\n",
    "        for number in range(1, n+1):\n",
    "            result *= number\n",
    "        return result\n",
    "    else:\n",
    "        return 1\n",
    "\n",
    "print(factorial(5))   # Testing, expected output: 120\n",
    "print(factorial(-1))  # Testing, expected output: Invalid input"
   ]
  }
 ],
 "metadata": {
  "kernelspec": {
   "display_name": "Python 3 (ipykernel)",
   "language": "python",
   "name": "python3"
  },
  "language_info": {
   "codemirror_mode": {
    "name": "ipython",
    "version": 3
   },
   "file_extension": ".py",
   "mimetype": "text/x-python",
   "name": "python",
   "nbconvert_exporter": "python",
   "pygments_lexer": "ipython3",
   "version": "3.12.3"
  },
  "toc": {
   "base_numbering": 1,
   "nav_menu": {},
   "number_sections": true,
   "sideBar": true,
   "skip_h1_title": false,
   "title_cell": "Table of Contents",
   "title_sidebar": "Contents",
   "toc_cell": false,
   "toc_position": {},
   "toc_section_display": true,
   "toc_window_display": false
  },
  "vscode": {
   "interpreter": {
    "hash": "31f2aee4e71d21fbe5cf8b01ff0e069b9275f58929596ceb00d14d90e3e16cd6"
   }
  }
 },
 "nbformat": 4,
 "nbformat_minor": 5
}
