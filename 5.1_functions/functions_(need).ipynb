{
 "cells": [
  {
   "attachments": {},
   "cell_type": "markdown",
   "id": "123456",
   "metadata": {},
   "source": [
    "<div style=\"text-align:left;font-size:2em\"><span style=\"font-weight:bolder;font-size:1.25em\">SP2273 | Learning Portfolio</span><br><br><span style=\"font-weight:bold;color:darkred\">Functions (Need)</span></div>"
   ]
  },
  {
   "attachments": {},
   "cell_type": "markdown",
   "id": "36c0932a",
   "metadata": {},
   "source": [
    "# What to expect in this chapter"
   ]
  },
  {
   "cell_type": "code",
   "execution_count": 1,
   "id": "bcf51546-f865-47fd-bf67-cf2f58c36c16",
   "metadata": {},
   "outputs": [
    {
     "name": "stdout",
     "output_type": "stream",
     "text": [
      "hahaha\n"
     ]
    }
   ],
   "source": [
    "x=print('hahaha')"
   ]
  },
  {
   "cell_type": "code",
   "execution_count": 2,
   "id": "ebeb3aeb-0e04-4f78-aede-3d8046d64e10",
   "metadata": {},
   "outputs": [],
   "source": [
    "y=sum([1, 2]) #return xxx"
   ]
  },
  {
   "cell_type": "code",
   "execution_count": 3,
   "id": "6f82c33d-9fc1-4b93-ac06-4ce47d93d5d9",
   "metadata": {},
   "outputs": [
    {
     "name": "stdout",
     "output_type": "stream",
     "text": [
      "x=None, y=3\n"
     ]
    }
   ],
   "source": [
    "print(f'{x=}, {y=}') #no return from print"
   ]
  },
  {
   "attachments": {},
   "cell_type": "markdown",
   "id": "b8501a39",
   "metadata": {},
   "source": [
    "# 1 User-defined functions"
   ]
  },
  {
   "attachments": {},
   "cell_type": "markdown",
   "id": "b5adf754",
   "metadata": {},
   "source": [
    "## 1.1 Named Functions"
   ]
  },
  {
   "attachments": {},
   "cell_type": "markdown",
   "id": "22195627",
   "metadata": {},
   "source": [
    "### Named functions that return"
   ]
  },
  {
   "cell_type": "code",
   "execution_count": 4,
   "id": "e8ccd33f-0212-4443-9d3c-568b9f4c7b33",
   "metadata": {},
   "outputs": [],
   "source": [
    "def greeting(name):\n",
    "    if name == 'Batman':\n",
    "        return 'Hello Batman! So, nice to meet you!'\n",
    "    else:\n",
    "        return f'Hello {name}!'"
   ]
  },
  {
   "cell_type": "code",
   "execution_count": 6,
   "id": "a28e9a4e-ce29-48fb-be05-5146aecbaf26",
   "metadata": {},
   "outputs": [
    {
     "data": {
      "text/plain": [
       "'Hello Joker!'"
      ]
     },
     "execution_count": 6,
     "metadata": {},
     "output_type": "execute_result"
    }
   ],
   "source": [
    "name_1 = 'Joker'\n",
    "greeting(name_1)\n",
    "greeting(name = 'Joker')"
   ]
  },
  {
   "cell_type": "code",
   "execution_count": null,
   "id": "8d376030-3dbf-4a53-86e2-357e2f142400",
   "metadata": {},
   "outputs": [],
   "source": [
    "def greeting(name, sidekick):\n",
    "    if name == 'Batman':\n",
    "        return 'Hello Batman! So, nice to meet you!'\n",
    "    else:\n",
    "        return f'Hello {name}!'"
   ]
  },
  {
   "cell_type": "code",
   "execution_count": null,
   "id": "fc1cbb23-2c4d-4151-87ec-b126723aeec3",
   "metadata": {},
   "outputs": [],
   "source": [
    "greeting('Robin', 'Joker')"
   ]
  },
  {
   "cell_type": "code",
   "execution_count": 13,
   "id": "134f57c4-c360-4a8c-8f90-f291ba85285e",
   "metadata": {},
   "outputs": [],
   "source": [
    "def basic_stats(numbers):\n",
    "    np_numbers = np.array(numbers)\n",
    "    my_min = np_numbers.min()\n",
    "    my_max = np_numbers.max()\n",
    "    my_mean = np_numbers.mean()\n",
    "    return my_min, my_max, my_mean"
   ]
  },
  {
   "cell_type": "code",
   "execution_count": 16,
   "id": "109a8a2a-dd41-4fd6-b61d-8a6c97fd75fc",
   "metadata": {},
   "outputs": [],
   "source": [
    "list_min, list_max, list_mean = basic_stats([1, 2, 3, 4, 5])"
   ]
  },
  {
   "cell_type": "code",
   "execution_count": 17,
   "id": "d60aac76",
   "metadata": {},
   "outputs": [
    {
     "data": {
      "text/plain": [
       "np.int64(5)"
      ]
     },
     "execution_count": 17,
     "metadata": {},
     "output_type": "execute_result"
    }
   ],
   "source": [
    "list_max"
   ]
  },
  {
   "attachments": {},
   "cell_type": "markdown",
   "id": "f39f1169",
   "metadata": {},
   "source": [
    "### Named functions that don’t return"
   ]
  },
  {
   "cell_type": "code",
   "execution_count": 18,
   "id": "70b9de48",
   "metadata": {},
   "outputs": [
    {
     "name": "stdout",
     "output_type": "stream",
     "text": [
      "hahaha\n"
     ]
    }
   ],
   "source": [
    "\n",
    "print('hahaha')\n"
   ]
  },
  {
   "attachments": {},
   "cell_type": "markdown",
   "id": "13880b82",
   "metadata": {},
   "source": [
    "## 1.2 Anonymous functions"
   ]
  },
  {
   "cell_type": "code",
   "execution_count": 29,
   "id": "89991ce3-f995-4d42-b285-3e6e65781483",
   "metadata": {},
   "outputs": [],
   "source": [
    "my_short_function = lambda name, sidekick: f\"Hello {name}!\""
   ]
  },
  {
   "cell_type": "code",
   "execution_count": 30,
   "id": "899b6302-90cd-42bb-b283-ed6a0f2fc6a0",
   "metadata": {},
   "outputs": [
    {
     "data": {
      "text/plain": [
       "'Hello Super Man!'"
      ]
     },
     "execution_count": 30,
     "metadata": {},
     "output_type": "execute_result"
    }
   ],
   "source": [
    "my_short_function(name=\"Super Man\", sidekick=\"Robin\")"
   ]
  },
  {
   "cell_type": "code",
   "execution_count": 24,
   "id": "88923550-6f47-42b3-a127-a20c39519bf5",
   "metadata": {},
   "outputs": [
    {
     "data": {
      "text/plain": [
       "[[9, 0, -10],\n",
       " [8, 1, -11],\n",
       " [7, 2, -12],\n",
       " [6, 3, -13],\n",
       " [5, 4, -14],\n",
       " [4, 5, -15],\n",
       " [3, 6, -16],\n",
       " [2, 7, -17],\n",
       " [1, 8, -18],\n",
       " [0, 9, -19]]"
      ]
     },
     "execution_count": 24,
     "metadata": {},
     "output_type": "execute_result"
    }
   ],
   "source": [
    "numbers=[[9, 0, -10],\n",
    "         [8, 1, -11],\n",
    "         [7, 2, -12],\n",
    "         [6, 3, -13],\n",
    "         [5, 4, -14],\n",
    "         [4, 5, -15],\n",
    "         [3, 6, -16],\n",
    "         [2, 7, -17],\n",
    "         [1, 8, -18],\n",
    "         [0, 9, -19]]\n",
    "def my_sort_function(numbers):\n",
    "    return numbers[1]\n",
    "\n",
    "sorted(numbers, key=my_sort_function)"
   ]
  },
  {
   "cell_type": "code",
   "execution_count": 27,
   "id": "f01570fd-5ee4-4238-a61d-586eaa44fce2",
   "metadata": {},
   "outputs": [
    {
     "data": {
      "text/plain": [
       "[[9, 0, -10],\n",
       " [8, 1, -11],\n",
       " [7, 2, -12],\n",
       " [6, 3, -13],\n",
       " [5, 4, -14],\n",
       " [4, 5, -15],\n",
       " [3, 6, -16],\n",
       " [2, 7, -17],\n",
       " [1, 8, -18],\n",
       " [0, 9, -19]]"
      ]
     },
     "execution_count": 27,
     "metadata": {},
     "output_type": "execute_result"
    }
   ],
   "source": [
    "numbers=[[9, 0, -10],\n",
    "         [8, 1, -11],\n",
    "         [7, 2, -12],\n",
    "         [6, 3, -13],\n",
    "         [5, 4, -14],\n",
    "         [4, 5, -15],\n",
    "         [3, 6, -16],\n",
    "         [2, 7, -17],\n",
    "         [1, 8, -18],\n",
    "         [0, 9, -19]]\n",
    "def my_sort_function(numbers):    #sorted by negative sums\n",
    "    return -sum(numbers) #return calls in the function and get the number to compare \n",
    "\n",
    "sorted(numbers, key=my_sort_function) "
   ]
  },
  {
   "cell_type": "code",
   "execution_count": 36,
   "id": "92a70dd6-e9de-427e-b52b-4de8586d83f1",
   "metadata": {},
   "outputs": [
    {
     "data": {
      "text/plain": [
       "[[9, 0, -10],\n",
       " [8, 1, -11],\n",
       " [7, 2, -12],\n",
       " [6, 3, -13],\n",
       " [5, 4, -14],\n",
       " [4, 5, -15],\n",
       " [3, 6, -16],\n",
       " [2, 7, -17],\n",
       " [1, 8, -18],\n",
       " [0, 9, -19]]"
      ]
     },
     "execution_count": 36,
     "metadata": {},
     "output_type": "execute_result"
    }
   ],
   "source": [
    "numbers=[[9, 0, -10],\n",
    "         [8, 1, -11],\n",
    "         [7, 2, -12],\n",
    "         [6, 3, -13],\n",
    "         [5, 4, -14],\n",
    "         [4, 5, -15],\n",
    "         [3, 6, -16],\n",
    "         [2, 7, -17],\n",
    "         [1, 8, -18],\n",
    "         [0, 9, -19]]\n",
    "\n",
    "sorted(numbers, key=lambda x: x[1])  #anonymous function, x is the input "
   ]
  },
  {
   "attachments": {},
   "cell_type": "markdown",
   "id": "54264b6c",
   "metadata": {},
   "source": [
    "## 1.3 Optional arguments"
   ]
  },
  {
   "cell_type": "code",
   "execution_count": 33,
   "id": "c2d19253-4456-44f1-93df-bf46bf8fb2fd",
   "metadata": {},
   "outputs": [],
   "source": [
    "def greeting(name='no one', pre='Super'):\n",
    "    if name == 'Batman':\n",
    "        return 'Hello Batman! So, nice to meet you!'\n",
    "    else:\n",
    "        return f'Hello --{pre}--{name}!'"
   ]
  },
  {
   "cell_type": "code",
   "execution_count": 34,
   "id": "223f9593-2034-4393-a13f-229a9c709b11",
   "metadata": {},
   "outputs": [
    {
     "data": {
      "text/plain": [
       "'Hello --hahaha--Robin!'"
      ]
     },
     "execution_count": 34,
     "metadata": {},
     "output_type": "execute_result"
    }
   ],
   "source": [
    "greeting('Robin', pre='hahaha')"
   ]
  },
  {
   "cell_type": "code",
   "execution_count": 35,
   "id": "c6e0f902-6523-4a74-b5cc-cc148868ec10",
   "metadata": {},
   "outputs": [
    {
     "name": "stdout",
     "output_type": "stream",
     "text": [
      "I am Batman!\n",
      "I---am---Batman!\n"
     ]
    }
   ],
   "source": [
    "# Using default values\n",
    "print('I', 'am', 'Batman!')\n",
    "# Specifying an optional argument\n",
    "print('I', 'am', 'Batman!', sep='---')  "
   ]
  },
  {
   "attachments": {},
   "cell_type": "markdown",
   "id": "808dbf52",
   "metadata": {},
   "source": [
    "## 1.4 The importance of functions?"
   ]
  },
  {
   "attachments": {},
   "cell_type": "markdown",
   "id": "4e12220b",
   "metadata": {},
   "source": [
    "### An argument for functions"
   ]
  },
  {
   "cell_type": "code",
   "execution_count": null,
   "id": "bd969bc8",
   "metadata": {},
   "outputs": [],
   "source": [
    "\n"
   ]
  },
  {
   "attachments": {},
   "cell_type": "markdown",
   "id": "fb0e3223",
   "metadata": {},
   "source": [
    "### A word of caution"
   ]
  },
  {
   "cell_type": "code",
   "execution_count": null,
   "id": "702ebfaa",
   "metadata": {},
   "outputs": [],
   "source": [
    "\n",
    "# Your code here\n"
   ]
  }
 ],
 "metadata": {
  "kernelspec": {
   "display_name": "Python 3 (ipykernel)",
   "language": "python",
   "name": "python3"
  },
  "language_info": {
   "codemirror_mode": {
    "name": "ipython",
    "version": 3
   },
   "file_extension": ".py",
   "mimetype": "text/x-python",
   "name": "python",
   "nbconvert_exporter": "python",
   "pygments_lexer": "ipython3",
   "version": "3.12.3"
  },
  "toc": {
   "base_numbering": 1,
   "nav_menu": {},
   "number_sections": true,
   "sideBar": true,
   "skip_h1_title": false,
   "title_cell": "Table of Contents",
   "title_sidebar": "Contents",
   "toc_cell": false,
   "toc_position": {},
   "toc_section_display": true,
   "toc_window_display": false
  },
  "vscode": {
   "interpreter": {
    "hash": "31f2aee4e71d21fbe5cf8b01ff0e069b9275f58929596ceb00d14d90e3e16cd6"
   }
  }
 },
 "nbformat": 4,
 "nbformat_minor": 5
}
